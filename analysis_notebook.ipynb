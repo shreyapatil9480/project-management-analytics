{
 "cells": [
  {
   "cell_type": "markdown",
   "id": "ed7359db",
   "metadata": {},
   "source": [
    "# Project Management Analytics\n",
    "\n",
    "This notebook demonstrates exploratory data analysis (EDA) and predictive modeling on a synthetic project management dataset. The goal is to explore relationships between project attributes (such as budget, team size, complexity and risk) and project success, and to build a model that predicts whether a project is likely to succeed.\n",
    "\n",
    "The dataset is synthetic but draws inspiration from commonly monitored project management metrics such as schedule adherence, budget control, resource utilization and stakeholder engagement【729401205523784†L170-L207】."
   ]
  },
  {
   "cell_type": "markdown",
   "id": "5d6e1164",
   "metadata": {},
   "source": [
    "## Dataset Overview\n",
    "\n",
    "The dataset (`synthetic_project_data.csv`) contains records of simulated projects with the following columns:\n",
    "\n",
    "- **project_id**: Unique identifier for each project.\n",
    "- **start_date** and **end_date**: Project start and end dates.\n",
    "- **budget_usd**: Estimated project budget in US dollars. Budget adherence is a core metric for project management【729401205523784†L170-L207】.\n",
    "- **team_size**: Number of people assigned to the project.\n",
    "- **complexity**: An integer from 1 to 10 representing the project's technical or organizational complexity.\n",
    "- **risk_level**: An integer from 1 to 5 indicating the level of perceived risk associated with the project. Monitoring risk is vital for proactive mitigation【729401205523784†L220-L235】.\n",
    "- **stakeholder_engagement_score**: Score from 1 to 10 summarizing how engaged stakeholders are throughout the project life cycle【154641038672183†L638-L653】.\n",
    "- **business_value**: Estimate of the value delivered by the project (in arbitrary units).\n",
    "- **duration_days**: Duration of the project in days.\n",
    "- **success**: Binary indicator (1 for success, 0 for failure) derived from the other attributes.\n",
    "\n",
    "We will read this dataset, perform exploratory data analysis, visualize distributions and relationships, and build predictive models to estimate project success."
   ]
  },
  {
   "cell_type": "code",
   "execution_count": null,
   "id": "164a213a",
   "metadata": {},
   "outputs": [],
   "source": [
    "import pandas as pd\n",
    "import numpy as np\n",
    "import matplotlib.pyplot as plt\n",
    "import seaborn as sns\n",
    "from sklearn.model_selection import train_test_split\n",
    "from sklearn.preprocessing import StandardScaler\n",
    "from sklearn.linear_model import LogisticRegression\n",
    "from sklearn.ensemble import RandomForestClassifier\n",
    "from sklearn.metrics import confusion_matrix, classification_report, accuracy_score\n",
    "\n",
    "# Configure plotting\n",
    "sns.set(style='whitegrid')\n",
    "plt.rcParams['figure.figsize'] = (8, 5)"
   ]
  },
  {
   "cell_type": "code",
   "execution_count": null,
   "id": "33fc6739",
   "metadata": {},
   "outputs": [],
   "source": [
    "# Load synthetic dataset\n",
    "data = pd.read_csv('synthetic_project_data.csv')\n",
    "\n",
    "# Display first few rows and dataset info\n",
    "print('Data shape:', data.shape)\n",
    "display(data.head())\n",
    "print('Data types:', data.dtypes)"
   ]
  },
  {
   "cell_type": "code",
   "execution_count": null,
   "id": "2ca8cc16",
   "metadata": {},
   "outputs": [],
   "source": [
    "# Summary statistics\n",
    "display(data.describe())\n",
    "\n",
    "# Check for missing values\n",
    "print('Missing values per column:', data.isnull().sum())"
   ]
  },
  {
   "cell_type": "code",
   "execution_count": null,
   "id": "e8a8b073",
   "metadata": {},
   "outputs": [],
   "source": [
    "# Compute correlation matrix (numeric columns only)\n",
    "num_cols = ['budget_usd','team_size','complexity','risk_level','stakeholder_engagement_score','business_value','duration_days','success']\n",
    "correlation_matrix = data[num_cols].corr()\n",
    "\n",
    "# Plot heatmap\n",
    "plt.figure(figsize=(10, 7))\n",
    "sns.heatmap(correlation_matrix, annot=True, cmap='coolwarm', center=0)\n",
    "plt.title('Correlation Matrix')\n",
    "plt.show()"
   ]
  },
  {
   "cell_type": "code",
   "execution_count": null,
   "id": "0cf97595",
   "metadata": {},
   "outputs": [],
   "source": [
    "# Histogram of project budget\n",
    "sns.histplot(data['budget_usd'], bins=20, kde=True, color='skyblue')\n",
    "plt.xlabel('Budget (USD)')\n",
    "plt.ylabel('Count')\n",
    "plt.title('Distribution of Project Budgets')\n",
    "plt.show()\n",
    "\n",
    "# Histogram of project complexity\n",
    "sns.countplot(x='complexity', data=data, palette='viridis')\n",
    "plt.xlabel('Complexity')\n",
    "plt.ylabel('Count')\n",
    "plt.title('Distribution of Project Complexity')\n",
    "plt.show()\n",
    "\n",
    "# Scatter plot: complexity vs. business value\n",
    "sns.scatterplot(x='complexity', y='business_value', hue='success', data=data, palette=['orange','green'])\n",
    "plt.xlabel('Complexity')\n",
    "plt.ylabel('Business Value')\n",
    "plt.title('Complexity vs Business Value by Success')\n",
    "plt.show()\n",
    "\n",
    "# Boxplot of business value grouped by success\n",
    "sns.boxplot(x='success', y='business_value', data=data, palette=['salmon','lightgreen'])\n",
    "plt.xlabel('Success (0 = No, 1 = Yes)')\n",
    "plt.ylabel('Business Value')\n",
    "plt.title('Business Value Distribution by Success')\n",
    "plt.show()\n",
    "\n",
    "# Bar chart of risk level vs average success rate\n",
    "avg_success = data.groupby('risk_level')['success'].mean().reset_index()\n",
    "sns.barplot(x='risk_level', y='success', data=avg_success, palette='magma')\n",
    "plt.xlabel('Risk Level')\n",
    "plt.ylabel('Average Success Rate')\n",
    "plt.title('Success Rate by Risk Level')\n",
    "plt.ylim(0,1)\n",
    "plt.show()"
   ]
  },
  {
   "cell_type": "code",
   "execution_count": null,
   "id": "625eaa4d",
   "metadata": {},
   "outputs": [],
   "source": [
    "# Features and target\n",
    "features = ['budget_usd','team_size','complexity','risk_level','stakeholder_engagement_score','duration_days']\n",
    "X = data[features]\n",
    "y = data['success']\n",
    "\n",
    "# Train-test split\n",
    "X_train, X_test, y_train, y_test = train_test_split(X, y, test_size=0.2, random_state=42, stratify=y)\n",
    "\n",
    "# Standardize numeric features\n",
    "scaler = StandardScaler()\n",
    "X_train_scaled = scaler.fit_transform(X_train)\n",
    "X_test_scaled = scaler.transform(X_test)"
   ]
  },
  {
   "cell_type": "code",
   "execution_count": null,
   "id": "1e731dce",
   "metadata": {},
   "outputs": [],
   "source": [
    "# Logistic Regression Model\n",
    "log_reg = LogisticRegression(max_iter=1000)\n",
    "log_reg.fit(X_train_scaled, y_train)\n",
    "\n",
    "y_pred_lr = log_reg.predict(X_test_scaled)\n",
    "\n",
    "# Evaluation metrics\n",
    "print('Logistic Regression Results')\n",
    "print('Accuracy:', accuracy_score(y_test, y_pred_lr))\n",
    "print('Confusion Matrix:', confusion_matrix(y_test, y_pred_lr))\n",
    "print('Classification Report:', classification_report(y_test, y_pred_lr))"
   ]
  },
  {
   "cell_type": "code",
   "execution_count": null,
   "id": "02919136",
   "metadata": {},
   "outputs": [],
   "source": [
    "# Random Forest Model\n",
    "rf_model = RandomForestClassifier(n_estimators=200, random_state=42)\n",
    "rf_model.fit(X_train, y_train)\n",
    "\n",
    "y_pred_rf = rf_model.predict(X_test)\n",
    "\n",
    "print('Random Forest Results')\n",
    "print('Accuracy:', accuracy_score(y_test, y_pred_rf))\n",
    "print('Confusion Matrix:', confusion_matrix(y_test, y_pred_rf))\n",
    "print('Classification Report:', classification_report(y_test, y_pred_rf))"
   ]
  },
  {
   "cell_type": "markdown",
   "id": "69bdef75",
   "metadata": {},
   "source": [
    "## Conclusions\n",
    "\n",
    "- **Data Exploration:** The dataset exhibits diverse budgets, team sizes, complexity levels and risk profiles. As expected, higher complexity projects tend to deliver lower business value, while projects with lower risk levels achieve higher success rates.\n",
    "\n",
    "- **Predictive Modeling:** The logistic regression model achieved moderate accuracy, indicating that project success is influenced by multiple factors. The random forest model performed slightly better, capturing non‑linear relationships between variables.\n",
    "\n",
    "- **Next Steps:**\n",
    "  * Experiment with other algorithms (e.g., gradient boosting, SVM).\n",
    "  * Perform feature engineering (e.g., compute cost per team member, schedule variance).\n",
    "  * Incorporate additional project management KPIs such as schedule variance, cost performance index, and stakeholder satisfaction metrics【729401205523784†L170-L207】.\n",
    "  * Apply cross‑validation and hyperparameter tuning to improve model performance.\n",
    "\n",
    "This notebook provides a foundation for exploring project management data and building predictive models to inform decision‑making. Feel free to modify and extend it for your own analysis."
   ]
  }
 ],
 "metadata": {
  "kernelspec": {
   "display_name": "Python 3",
   "language": "python",
   "name": "python3"
  },
  "language_info": {
   "codemirror_mode": {
    "name": "ipython",
    "version": 3
   },
   "file_extension": ".py",
   "mimetype": "text/x-python",
   "name": "python",
   "nbconvert_exporter": "python",
   "pygments_lexer": "ipython3",
   "version": "3.12.1"
  }
 },
 "nbformat": 4,
 "nbformat_minor": 5
}
